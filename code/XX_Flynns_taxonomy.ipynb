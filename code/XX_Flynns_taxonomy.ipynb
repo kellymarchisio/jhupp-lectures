{
 "cells": [
  {
   "cell_type": "markdown",
   "metadata": {},
   "source": [
    "### Flynn's Taxonomy \n",
    "\n",
    "Characterize machines by number of instruction streams and data streams\n",
    "  * Defined in 1972.  Still common practice.\n",
    "  * A little too restrictive, but a starting place\n",
    "\n",
    "### SISD: single instruction, single data\n",
    "\n",
    "<img src=\"./images/sisd.png\" width=\"300\" title=\"SISD http://arstechnica.com/paedia/c/cpu/part-1/cpu1-1.html\" /><img src=\"./images/vn.png\" width=\"300\" title=\"Unknown source.\" />\n",
    "\n",
    "Perform  a stream on instructions on a stream of data\n",
    "  * The von Neumann architecture\n",
    "  * Conforms to serial algorithmic analysis\n",
    "\n",
    "### SIMD: single instruction, multiple data\n",
    "\n",
    "<img src=\"./images/simd.png\" width=\"512\" title=\"SISD http://arstechnica.com/paedia/c/cpu/part-1/cpu1-1.html\" />\n",
    "\n",
    "* Single control stream\n",
    "  * All processors execute the same instruction at the same time\n",
    "  * against different data\n",
    "  * synchronous execution or 'in lock step'\n",
    "* Fine-grained parallelism without inter-process communication\n",
    "* Limited examples  \n",
    "  * Intel vector processors\n",
    "  * GPU stream processor\n",
    "\n",
    "The examples are limited because these are SIMD computing elements which \n",
    "are part of a more complex heterogeneous system.\n",
    "\n",
    "### MISD: multiple instruction, single data\n",
    "\n",
    "As a taxon, this class is irrelevant.  No such machines.\n",
    "  * Machines called systolic arrays used some principles\n",
    "  * The Google TPU has some of these principles.\n",
    "The concept may get used in more complex systems.\n",
    "\n",
    "### MIMD: multiple instruction, multiple data\n",
    "\n",
    "<img src=\"./images/mimd.png\" width=\"512\" title=\"Unknown source.\" />\n",
    "\n",
    "* Asycnchronous parallelism\n",
    "  * Mutliple processing units\n",
    "  * Each processing unit gets independent input/data streams\n",
    "* Most of the machines that we are interested in are MIMD + complex processing units\n",
    "  * GPU is a MIMD of SIMD processors\n",
    "  * NUMA is a MIMD of MIMD proessors\n",
    "  * HPC is a MIMD of MIMD of MIMD and SIMD processors\n",
    "  \n",
    "Flynn’s taxonomy not so useful.  We ust further divide the world by architectural features and programming model"
   ]
  },
  {
   "cell_type": "code",
   "execution_count": null,
   "metadata": {},
   "outputs": [],
   "source": []
  }
 ],
 "metadata": {
  "kernelspec": {
   "display_name": "R",
   "language": "R",
   "name": "ir"
  },
  "language_info": {
   "codemirror_mode": "r",
   "file_extension": ".r",
   "mimetype": "text/x-r-source",
   "name": "R",
   "pygments_lexer": "r",
   "version": "3.5.1"
  }
 },
 "nbformat": 4,
 "nbformat_minor": 2
}
